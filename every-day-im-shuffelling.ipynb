{
 "cells": [
  {
   "cell_type": "code",
   "execution_count": null,
   "metadata": {
    "colab": {
     "autoexec": {
      "startup": false,
      "wait_interval": 0
     },
     "base_uri": "https://localhost:8080/",
     "height": 138
    },
    "colab_type": "code",
    "executionInfo": {
     "elapsed": 3036,
     "status": "ok",
     "timestamp": 1526028148171,
     "user": {
      "displayName": "vincent warmerdam",
      "photoUrl": "//lh6.googleusercontent.com/-ktDb7cAFUxU/AAAAAAAAAAI/AAAAAAAABck/7OB6gLOGJKY/s50-c-k-no/photo.jpg",
      "userId": "111550312974446745361"
     },
     "user_tz": -120
    },
    "id": "n7pwJTqYohbp",
    "outputId": "53ccdb8b-a157-4ef1-c47b-338b029d426f"
   },
   "outputs": [],
   "source": [
    "import random\n",
    "from functools import reduce  \n",
    "from operator import add\n",
    "import numpy as np\n",
    "from scipy import stats\n",
    "import matplotlib.pylab as plt \n",
    "%matplotlib inline\n",
    "import matplotlib as mpl\n",
    "import tqdm\n",
    "plt.style.use('seaborn-white')\n",
    "mpl.pyplot.set_cmap('hot')"
   ]
  },
  {
   "cell_type": "markdown",
   "metadata": {
    "colab_type": "text",
    "id": "NNp6m-xw5_zI"
   },
   "source": [
    "This document contains a small tutorial on entropy and testing for randomness. \n",
    "\n",
    "When I go on holiday I always bring two card games that I can play with my girlfriend: [love letters]() and [sushi go](). The love letters game only consists of 16 cards and my girlfriend noticed that it was rather common that the same sets of cards occured even after shuffling. She though it was because of the way that I was shuffling cards. We got into a bit of a discussion on how one should shuffle cards, which led me to investigate it in a notebook. \n",
    "\n",
    "## Methods of Shuffling\n",
    "\n",
    "I will be considering:\n",
    "\n",
    "- the one way shuffle: the deck is kept in one hand and blocks of cards are slid unto the other hand making sure the top block of the main hand is put on top of the other hand. \n",
    "- the two way shuffle: the deck is kept in one hand and blocks of cards are slid unto the other hand alternating between stacking above and below \n",
    "- the noisy split shuffle: split the deck and zip the two stacks, we'll assume some noise over an otherwise perfect split. \n",
    "\n",
    "## Measurements of randomness \n",
    "\n",
    "#### Entropy \n",
    "\n",
    "#### Binomials \n",
    "\n",
    "## Results \n",
    "\n",
    "- depending on deck size \n",
    "- depending on types of shuffle \n",
    "- over number if shuffles \n",
    "- discussion \n",
    "\n",
    "## Insights \n",
    "\n",
    "- try out different orders of shuffling \n",
    "- is there a best way to shuffle?\n",
    "\n",
    "## Conclusion "
   ]
  },
  {
   "cell_type": "code",
   "execution_count": null,
   "metadata": {
    "colab": {
     "autoexec": {
      "startup": false,
      "wait_interval": 0
     }
    },
    "colab_type": "code",
    "id": "_-cMBRwWV9Q0"
   },
   "outputs": [],
   "source": [
    "class Deck:\n",
    "    def __init__(self, n_cards=52):\n",
    "        self.n_cards = n_cards\n",
    "        self.cards = list(range(n_cards))\n",
    "    \n",
    "    def one_way_shuffle(self, n_times=1, at_a_time=[2,3,4,5,6,7]):\n",
    "        cards = self.cards\n",
    "        for i in range(n_times):\n",
    "            new_cards = [] \n",
    "            num_cards = len(cards)\n",
    "            i = 0\n",
    "            while len(new_cards) < num_cards: \n",
    "                tick_size = random.choice(at_a_time)\n",
    "                new_batch, cards = cards[:tick_size], cards[tick_size:]\n",
    "                new_cards = new_batch + new_cards\n",
    "                i += 1\n",
    "            cards = new_cards\n",
    "        self.cards = new_cards\n",
    "        return self \n",
    "    \n",
    "    def two_way_shuffle(self, n_times=1, at_a_time=[2,3,4,5,6,7]):\n",
    "        cards = self.cards\n",
    "        for i in range(n_times):\n",
    "            new_cards = [] \n",
    "            num_cards = len(cards)\n",
    "            i = 0\n",
    "            while len(new_cards) < num_cards: \n",
    "                tick_size = random.choice(at_a_time)\n",
    "                new_batch, cards = cards[:tick_size], cards[tick_size:]\n",
    "                new_cards = new_cards + new_batch if i % 2 == 0 else new_batch + new_cards\n",
    "                i += 1\n",
    "            cards = new_cards\n",
    "        self.cards = new_cards\n",
    "        return self \n",
    "    \n",
    "    def split_shuffle(self, n_times=1, p_flip=0):\n",
    "        split_idx = round(self.n_cards/2)\n",
    "        for i in range(n_times):\n",
    "            top = self.cards[split_idx:]\n",
    "            bottom = self.cards[:split_idx]\n",
    "            self.cards = reduce(add, [[a] + [b] for a,b in zip(top, bottom)])\n",
    "            for i in range(round(self.n_cards*p_flip)):\n",
    "                idx = random.choice(range(self.n_cards))\n",
    "                old_cards = self.cards[:]\n",
    "                old_cards[idx], old_cards[idx-1] = old_cards[idx-1], old_cards[idx]\n",
    "                self.cards = old_cards\n",
    "        return self \n",
    "    \n",
    "    def shuffle(self, typename, *args, **kwargs):\n",
    "        if typename == \"one_way\":\n",
    "            return self.one_way_shuffle(*args, **kwargs)\n",
    "        if typename == \"two_way\":\n",
    "            return self.two_way_shuffle(*args, **kwargs)\n",
    "        if typename == \"split\":\n",
    "            return self.split_shuffle(*args,**kwargs, p_flip=0)\n",
    "        if typename == \"noisy_split\":\n",
    "            return self.split_shuffle(*args,**kwargs, p_flip=0.1)\n",
    "        assert False"
   ]
  },
  {
   "cell_type": "code",
   "execution_count": null,
   "metadata": {
    "colab": {
     "autoexec": {
      "startup": false,
      "wait_interval": 0
     }
    },
    "colab_type": "code",
    "id": "lXfBewlCXta3"
   },
   "outputs": [],
   "source": [
    "assert len(Deck(n_cards=10).split_shuffle().cards) == 10 \n",
    "assert len(Deck(n_cards=20).split_shuffle(p_flip=0.1).cards) == 20 \n",
    "assert len(Deck(n_cards=12).one_way_shuffle(n_times=1).cards) == 12\n",
    "assert len(Deck(n_cards=12).two_way_shuffle(n_times=1).cards) == 12"
   ]
  },
  {
   "cell_type": "code",
   "execution_count": null,
   "metadata": {
    "colab": {
     "autoexec": {
      "startup": false,
      "wait_interval": 0
     }
    },
    "colab_type": "code",
    "id": "7_w5VoT9o7C7"
   },
   "outputs": [],
   "source": [
    "def calc_qx(shuffles):\n",
    "    qx = np.zeros(shape=(len(shuffles[0]), len(shuffles[0])))\n",
    "    for simulation in shuffles:\n",
    "        for j, placement in enumerate(simulation):\n",
    "            qx[j, placement] += 1 \n",
    "    return qx\n",
    "\n",
    "\n",
    "def calc_entropy(shuffelds):\n",
    "    entropies = []\n",
    "    for i in calc_qx(shuffelds):\n",
    "        p = i/i.sum()\n",
    "        logp = np.log2(p)\n",
    "        logp[p == 0] = 0\n",
    "        entropies.append(np.sum(p*logp))\n",
    "    return -np.mean(entropies)\n",
    "\n",
    "\n",
    "def calc_kl(shuffelds):\n",
    "    entropies = []\n",
    "    for i in calc_qx(shuffelds):\n",
    "        q = i/i.sum() + 0.0000001\n",
    "        p = 1/len(shuffelds[0])\n",
    "        logpq = np.log2(p/q)\n",
    "        entropies.append(np.sum(p*logpq))\n",
    "    return np.mean(entropies)"
   ]
  },
  {
   "cell_type": "code",
   "execution_count": null,
   "metadata": {},
   "outputs": [],
   "source": [
    "def varprint(*args, **kwargs):\n",
    "    output = \"\"\n",
    "    for arg in args: \n",
    "        output += f\"{args}\"\n",
    "    for key, val in kwargs.items():\n",
    "        output += f\" {key}:{val}\"\n",
    "    print(output)\n",
    "    \n",
    "def run_simulation(shuffle_type, n_cards, n_times, n_iter=10000):\n",
    "    sim_shuffled_indices = []\n",
    "    for i in range(n_iter):\n",
    "        res = (Deck(n_cards=n_cards)\n",
    "                     .shuffle(shuffle_type, n_times=n_times)\n",
    "                     .cards)\n",
    "        sim_shuffled_indices.append(res)\n",
    "    return sim_shuffled_indices"
   ]
  },
  {
   "cell_type": "code",
   "execution_count": null,
   "metadata": {
    "colab": {
     "autoexec": {
      "startup": false,
      "wait_interval": 0
     },
     "base_uri": "https://localhost:8080/",
     "height": 462
    },
    "colab_type": "code",
    "executionInfo": {
     "elapsed": 1160,
     "status": "error",
     "timestamp": 1525853702100,
     "user": {
      "displayName": "vincent warmerdam",
      "photoUrl": "//lh6.googleusercontent.com/-ktDb7cAFUxU/AAAAAAAAAAI/AAAAAAAABck/7OB6gLOGJKY/s50-c-k-no/photo.jpg",
      "userId": "111550312974446745361"
     },
     "user_tz": -120
    },
    "id": "YOSEPJvhRUtF",
    "outputId": "3bb7de79-542e-4df8-8737-dd19fcca04a8"
   },
   "outputs": [],
   "source": [
    "n_iter = 10000\n",
    "for n_cards in [16, 52, 104]:\n",
    "    for shuffle_type in ['one_way', 'two_way', 'noisy_split',]:\n",
    "        for n_times in range(1, 25+1):\n",
    "            sim_shuffled_indices = run_simulation(shuffle_type, n_cards, n_times, n_iter=10000)\n",
    "\n",
    "            distrib = stats.binom(n=n_iter, p=1/n_cards)\n",
    "            qx = calc_qx(sim_shuffled_indices)\n",
    "            n_failed_tests = np.sum(distrib.cdf(qx) < 0.01) + np.sum(distrib.cdf(qx) > 0.99)\n",
    "            entropy = round(calc_entropy(sim_shuffled_indices),3)\n",
    "            relative_entropy = round(np.log2(n_cards),3)\n",
    "\n",
    "            plt.figure(figsize=(6,6))\n",
    "            plt.imshow(np.flip(np.array([i/i.sum() for i in calc_qx(sim_shuffled_indices)]), axis=0),\n",
    "                                 interpolation='none', extent=[0, n_cards, 0, n_cards],\n",
    "                                 cmap=plt.cm.coolwarm, vmin=0, vmax=3/n_cards)\n",
    "            plt.colorbar()\n",
    "            plt.title(f\"type: {shuffle_type}-{n_times} entr: {entropy}/{relative_entropy} fails: {n_failed_tests}/{n_cards*n_cards}\");\n",
    "            plt.savefig(f\"shuffles/{shuffle_type}-{n_cards}-{str(n_times).zfill(2)}-{n_iter}.png\", bbox_inches='tight')\n",
    "            varprint(type=shuffle_type, n_cards=n_cards, n_times=n_times, n_iter=n_iter, entropy=entropy, status=\"saved.\")"
   ]
  },
  {
   "cell_type": "markdown",
   "metadata": {
    "colab_type": "text",
    "id": "fZtK_swkqBqN"
   },
   "source": [
    "At least from eyeballing: it seems that after 3 shuffles, it isn't that bad. Can we quantify how valid it is though? It would be nice if we have some sort of result depending on the number of shuffles and the number of cards. \n",
    "We could calculate the entropy of the estimated probabilities. The higher the entropy, the better. \n",
    "\n",
    "Interestingly enough, we have a maximum possible entropy given $N$ cards. \n",
    "\n",
    "$$ H[p(x)] = - \\sum_i p_i \\log p_i = - \\sum_i \\frac{1}{N} \\log \\frac{1}{N} = \\sum_{i=1}^N \\frac{1}{N} \\log N = \\log N$$ \n",
    "\n",
    "This means that we can check; what order of practical shuffling actions maximises the entropy?\n",
    "\n",
    "Entropy is a measure of randomness but it doesn't test for randomness. As well as I expected.\n"
   ]
  },
  {
   "cell_type": "markdown",
   "metadata": {},
   "source": [
    "```\n",
    "convert -loop 0 -delay 50 noisy_split-52-*-10000.png noisy.gif\n",
    "convert -loop 0 -delay 50 one_way-52-*-10000.png oneway.gif\n",
    "convert -loop 0 -delay 50 two_way-52-*-10000.png twoway.gif\n",
    "```"
   ]
  },
  {
   "cell_type": "code",
   "execution_count": null,
   "metadata": {
    "colab": {
     "autoexec": {
      "startup": false,
      "wait_interval": 0
     },
     "base_uri": "https://localhost:8080/",
     "height": 371
    },
    "colab_type": "code",
    "executionInfo": {
     "elapsed": 1243,
     "status": "error",
     "timestamp": 1525721860860,
     "user": {
      "displayName": "vincent warmerdam",
      "photoUrl": "//lh6.googleusercontent.com/-ktDb7cAFUxU/AAAAAAAAAAI/AAAAAAAABck/7OB6gLOGJKY/s50-c-k-no/photo.jpg",
      "userId": "111550312974446745361"
     },
     "user_tz": -120
    },
    "id": "AWUtvusc0_di",
    "outputId": "197e154e-681c-46d2-b87a-c086cf261326"
   },
   "outputs": [],
   "source": [
    "n_iter = 5000\n",
    "data = [] \n",
    "for n_cards in [16, 32, 52, 128]:\n",
    "    for shuffle_type in ['noisy_split', 'one_way', 'two_way', ]:\n",
    "        for n_times in range(1, 25 + 1):\n",
    "            sim_shuffled_indices = run_simulation(shuffle_type, n_cards, n_times, n_iter=n_iter)\n",
    "            distrib = stats.binom(n=n_iter, p=1/n_cards)\n",
    "            qx = calc_qx(sim_shuffled_indices)\n",
    "            n_failed_tests = np.sum(distrib.cdf(qx) < 0.01) + np.sum(distrib.cdf(qx) > 0.99)\n",
    "\n",
    "            distrib = stats.binom(n=n_iter, p=1/n_cards)\n",
    "            qx = calc_qx(sim_shuffled_indices)\n",
    "            n_failed_tests = np.sum(distrib.cdf(qx) < 0.01) + np.sum(distrib.cdf(qx) > 0.99)\n",
    "            entropy = round(calc_entropy(sim_shuffled_indices), 3)\n",
    "            relative_entropy = round(np.log2(n_cards), 3)\n",
    "            kl = calc_kl(sim_shuffled_indices)\n",
    "            data.append(dict(type=shuffle_type, \n",
    "                     n_cards=n_cards, \n",
    "                     n_times=n_times, \n",
    "                     n_iter=n_iter, \n",
    "                     entropy=entropy, \n",
    "                     failed_tests=n_failed_tests, \n",
    "                     kl=kl))\n",
    "            varprint(type=shuffle_type, \n",
    "                     n_cards=n_cards, \n",
    "                     n_times=n_times, \n",
    "                     n_iter=n_iter, \n",
    "                     entropy=entropy, \n",
    "                     failed_tests=n_failed_tests, \n",
    "                     kl=kl)"
   ]
  },
  {
   "cell_type": "code",
   "execution_count": null,
   "metadata": {
    "colab": {
     "autoexec": {
      "startup": false,
      "wait_interval": 0
     },
     "base_uri": "https://localhost:8080/",
     "height": 35
    },
    "colab_type": "code",
    "executionInfo": {
     "elapsed": 1557,
     "status": "ok",
     "timestamp": 1525673047997,
     "user": {
      "displayName": "vincent warmerdam",
      "photoUrl": "//lh6.googleusercontent.com/-ktDb7cAFUxU/AAAAAAAAAAI/AAAAAAAABck/7OB6gLOGJKY/s50-c-k-no/photo.jpg",
      "userId": "111550312974446745361"
     },
     "user_tz": -120
    },
    "id": "AbsRcNOz1LAY",
    "outputId": "2af40096-071d-4523-9f87-c812e12360aa"
   },
   "outputs": [],
   "source": [
    "import pandas as pd \n",
    "from plotnine import ggplot, aes, geom_line, facet_grid, ggtitle\n",
    "\n",
    "df = (pd.DataFrame(data)\n",
    "     .assign(p_fail = lambda d: d.failed_tests/d.n_cards/d.n_cards)\n",
    "     .assign(n_cards = lambda d: d.n_cards.apply(str)))\n",
    "df.head()"
   ]
  },
  {
   "cell_type": "code",
   "execution_count": null,
   "metadata": {},
   "outputs": [],
   "source": [
    "# df"
   ]
  },
  {
   "cell_type": "code",
   "execution_count": null,
   "metadata": {
    "colab": {
     "autoexec": {
      "startup": false,
      "wait_interval": 0
     }
    },
    "colab_type": "code",
    "id": "YlzbnEJKMzDK"
   },
   "outputs": [],
   "source": [
    "(ggplot() + \n",
    "  geom_line(data=df, mapping=aes('n_times', 'p_fail')) + \n",
    "  facet_grid('n_cards ~ type'))"
   ]
  },
  {
   "cell_type": "code",
   "execution_count": null,
   "metadata": {},
   "outputs": [],
   "source": []
  }
 ],
 "metadata": {
  "accelerator": "GPU",
  "colab": {
   "collapsed_sections": [],
   "default_view": {},
   "name": "every-day-im-shuffelling.ipynb",
   "provenance": [],
   "version": "0.3.2",
   "views": {}
  },
  "kernelspec": {
   "display_name": "Python 3",
   "language": "python",
   "name": "python3"
  },
  "language_info": {
   "codemirror_mode": {
    "name": "ipython",
    "version": 3
   },
   "file_extension": ".py",
   "mimetype": "text/x-python",
   "name": "python",
   "nbconvert_exporter": "python",
   "pygments_lexer": "ipython3",
   "version": "3.6.5"
  }
 },
 "nbformat": 4,
 "nbformat_minor": 1
}
